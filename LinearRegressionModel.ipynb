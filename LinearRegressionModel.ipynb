{
  "cells": [
    {
      "cell_type": "code",
      "execution_count": 17,
      "metadata": {
        "id": "C3BLFxBbQQHV"
      },
      "outputs": [],
      "source": [
        "import matplotlib.pyplot as plt\n",
        "import pandas as pd\n",
        "from sklearn.model_selection import train_test_split\n",
        "from sklearn.linear_model import LinearRegression\n",
        "from sklearn.metrics import mean_squared_error, r2_score\n",
        "import numpy as np\n"
      ]
    },
    {
      "cell_type": "code",
      "execution_count": 18,
      "metadata": {
        "colab": {
          "base_uri": "https://localhost:8080/",
          "height": 422
        },
        "id": "aOKu1FR7QpEc",
        "outputId": "fa11090f-871e-41b0-8525-77d1596bd05c"
      },
      "outputs": [
        {
          "data": {
            "text/html": [
              "<div>\n",
              "<style scoped>\n",
              "    .dataframe tbody tr th:only-of-type {\n",
              "        vertical-align: middle;\n",
              "    }\n",
              "\n",
              "    .dataframe tbody tr th {\n",
              "        vertical-align: top;\n",
              "    }\n",
              "\n",
              "    .dataframe thead th {\n",
              "        text-align: right;\n",
              "    }\n",
              "</style>\n",
              "<table border=\"1\" class=\"dataframe\">\n",
              "  <thead>\n",
              "    <tr style=\"text-align: right;\">\n",
              "      <th></th>\n",
              "      <th>Cycle_Index</th>\n",
              "      <th>Discharge Time (s)</th>\n",
              "      <th>Decrement 3.6-3.4V (s)</th>\n",
              "      <th>Max. Voltage Dischar. (V)</th>\n",
              "      <th>Min. Voltage Charg. (V)</th>\n",
              "      <th>Time at 4.15V (s)</th>\n",
              "      <th>Time constant current (s)</th>\n",
              "      <th>Charging time (s)</th>\n",
              "      <th>RUL</th>\n",
              "    </tr>\n",
              "  </thead>\n",
              "  <tbody>\n",
              "    <tr>\n",
              "      <th>0</th>\n",
              "      <td>1.0</td>\n",
              "      <td>2595.30</td>\n",
              "      <td>1151.488500</td>\n",
              "      <td>3.670</td>\n",
              "      <td>3.211</td>\n",
              "      <td>5460.001</td>\n",
              "      <td>6755.01</td>\n",
              "      <td>10777.82</td>\n",
              "      <td>1112</td>\n",
              "    </tr>\n",
              "    <tr>\n",
              "      <th>1</th>\n",
              "      <td>2.0</td>\n",
              "      <td>7408.64</td>\n",
              "      <td>1172.512500</td>\n",
              "      <td>4.246</td>\n",
              "      <td>3.220</td>\n",
              "      <td>5508.992</td>\n",
              "      <td>6762.02</td>\n",
              "      <td>10500.35</td>\n",
              "      <td>1111</td>\n",
              "    </tr>\n",
              "    <tr>\n",
              "      <th>2</th>\n",
              "      <td>3.0</td>\n",
              "      <td>7393.76</td>\n",
              "      <td>1112.992000</td>\n",
              "      <td>4.249</td>\n",
              "      <td>3.224</td>\n",
              "      <td>5508.993</td>\n",
              "      <td>6762.02</td>\n",
              "      <td>10420.38</td>\n",
              "      <td>1110</td>\n",
              "    </tr>\n",
              "    <tr>\n",
              "      <th>3</th>\n",
              "      <td>4.0</td>\n",
              "      <td>7385.50</td>\n",
              "      <td>1080.320667</td>\n",
              "      <td>4.250</td>\n",
              "      <td>3.225</td>\n",
              "      <td>5502.016</td>\n",
              "      <td>6762.02</td>\n",
              "      <td>10322.81</td>\n",
              "      <td>1109</td>\n",
              "    </tr>\n",
              "    <tr>\n",
              "      <th>4</th>\n",
              "      <td>6.0</td>\n",
              "      <td>65022.75</td>\n",
              "      <td>29813.487000</td>\n",
              "      <td>4.290</td>\n",
              "      <td>3.398</td>\n",
              "      <td>5480.992</td>\n",
              "      <td>53213.54</td>\n",
              "      <td>56699.65</td>\n",
              "      <td>1107</td>\n",
              "    </tr>\n",
              "    <tr>\n",
              "      <th>...</th>\n",
              "      <td>...</td>\n",
              "      <td>...</td>\n",
              "      <td>...</td>\n",
              "      <td>...</td>\n",
              "      <td>...</td>\n",
              "      <td>...</td>\n",
              "      <td>...</td>\n",
              "      <td>...</td>\n",
              "      <td>...</td>\n",
              "    </tr>\n",
              "    <tr>\n",
              "      <th>15059</th>\n",
              "      <td>1108.0</td>\n",
              "      <td>770.44</td>\n",
              "      <td>179.523810</td>\n",
              "      <td>3.773</td>\n",
              "      <td>3.742</td>\n",
              "      <td>922.775</td>\n",
              "      <td>1412.38</td>\n",
              "      <td>6678.88</td>\n",
              "      <td>4</td>\n",
              "    </tr>\n",
              "    <tr>\n",
              "      <th>15060</th>\n",
              "      <td>1109.0</td>\n",
              "      <td>771.12</td>\n",
              "      <td>179.523810</td>\n",
              "      <td>3.773</td>\n",
              "      <td>3.744</td>\n",
              "      <td>915.512</td>\n",
              "      <td>1412.31</td>\n",
              "      <td>6670.38</td>\n",
              "      <td>3</td>\n",
              "    </tr>\n",
              "    <tr>\n",
              "      <th>15061</th>\n",
              "      <td>1110.0</td>\n",
              "      <td>769.12</td>\n",
              "      <td>179.357143</td>\n",
              "      <td>3.773</td>\n",
              "      <td>3.742</td>\n",
              "      <td>915.513</td>\n",
              "      <td>1412.31</td>\n",
              "      <td>6637.12</td>\n",
              "      <td>2</td>\n",
              "    </tr>\n",
              "    <tr>\n",
              "      <th>15062</th>\n",
              "      <td>1111.0</td>\n",
              "      <td>773.88</td>\n",
              "      <td>162.374667</td>\n",
              "      <td>3.763</td>\n",
              "      <td>3.839</td>\n",
              "      <td>539.375</td>\n",
              "      <td>1148.00</td>\n",
              "      <td>7660.62</td>\n",
              "      <td>1</td>\n",
              "    </tr>\n",
              "    <tr>\n",
              "      <th>15063</th>\n",
              "      <td>1112.0</td>\n",
              "      <td>677537.27</td>\n",
              "      <td>142740.640000</td>\n",
              "      <td>4.206</td>\n",
              "      <td>3.305</td>\n",
              "      <td>49680.004</td>\n",
              "      <td>599830.14</td>\n",
              "      <td>599830.14</td>\n",
              "      <td>0</td>\n",
              "    </tr>\n",
              "  </tbody>\n",
              "</table>\n",
              "<p>15064 rows × 9 columns</p>\n",
              "</div>"
            ],
            "text/plain": [
              "       Cycle_Index  Discharge Time (s)  Decrement 3.6-3.4V (s)  \\\n",
              "0              1.0             2595.30             1151.488500   \n",
              "1              2.0             7408.64             1172.512500   \n",
              "2              3.0             7393.76             1112.992000   \n",
              "3              4.0             7385.50             1080.320667   \n",
              "4              6.0            65022.75            29813.487000   \n",
              "...            ...                 ...                     ...   \n",
              "15059       1108.0              770.44              179.523810   \n",
              "15060       1109.0              771.12              179.523810   \n",
              "15061       1110.0              769.12              179.357143   \n",
              "15062       1111.0              773.88              162.374667   \n",
              "15063       1112.0           677537.27           142740.640000   \n",
              "\n",
              "       Max. Voltage Dischar. (V)  Min. Voltage Charg. (V)  Time at 4.15V (s)  \\\n",
              "0                          3.670                    3.211           5460.001   \n",
              "1                          4.246                    3.220           5508.992   \n",
              "2                          4.249                    3.224           5508.993   \n",
              "3                          4.250                    3.225           5502.016   \n",
              "4                          4.290                    3.398           5480.992   \n",
              "...                          ...                      ...                ...   \n",
              "15059                      3.773                    3.742            922.775   \n",
              "15060                      3.773                    3.744            915.512   \n",
              "15061                      3.773                    3.742            915.513   \n",
              "15062                      3.763                    3.839            539.375   \n",
              "15063                      4.206                    3.305          49680.004   \n",
              "\n",
              "       Time constant current (s)  Charging time (s)   RUL  \n",
              "0                        6755.01           10777.82  1112  \n",
              "1                        6762.02           10500.35  1111  \n",
              "2                        6762.02           10420.38  1110  \n",
              "3                        6762.02           10322.81  1109  \n",
              "4                       53213.54           56699.65  1107  \n",
              "...                          ...                ...   ...  \n",
              "15059                    1412.38            6678.88     4  \n",
              "15060                    1412.31            6670.38     3  \n",
              "15061                    1412.31            6637.12     2  \n",
              "15062                    1148.00            7660.62     1  \n",
              "15063                  599830.14          599830.14     0  \n",
              "\n",
              "[15064 rows x 9 columns]"
            ]
          },
          "execution_count": 18,
          "metadata": {},
          "output_type": "execute_result"
        }
      ],
      "source": [
        "data=pd.read_csv(\"Battery_RUL.csv\")\n",
        "data"
      ]
    },
    {
      "cell_type": "code",
      "execution_count": 19,
      "metadata": {
        "colab": {
          "base_uri": "https://localhost:8080/"
        },
        "id": "O8g9ANdqQ_1b",
        "outputId": "71acde6e-a9d8-4cc8-b8ac-f6f7aad0c5fd"
      },
      "outputs": [
        {
          "data": {
            "text/plain": [
              "(15064, 9)"
            ]
          },
          "execution_count": 19,
          "metadata": {},
          "output_type": "execute_result"
        }
      ],
      "source": [
        "data.shape"
      ]
    },
    {
      "cell_type": "code",
      "execution_count": 20,
      "metadata": {
        "colab": {
          "base_uri": "https://localhost:8080/"
        },
        "id": "3qtWmno5RQpe",
        "outputId": "c42c9487-b817-47a1-8fbb-e3b98fa9518e"
      },
      "outputs": [
        {
          "data": {
            "text/plain": [
              "<bound method DataFrame.info of        Cycle_Index  Discharge Time (s)  Decrement 3.6-3.4V (s)  \\\n",
              "0              1.0             2595.30             1151.488500   \n",
              "1              2.0             7408.64             1172.512500   \n",
              "2              3.0             7393.76             1112.992000   \n",
              "3              4.0             7385.50             1080.320667   \n",
              "4              6.0            65022.75            29813.487000   \n",
              "...            ...                 ...                     ...   \n",
              "15059       1108.0              770.44              179.523810   \n",
              "15060       1109.0              771.12              179.523810   \n",
              "15061       1110.0              769.12              179.357143   \n",
              "15062       1111.0              773.88              162.374667   \n",
              "15063       1112.0           677537.27           142740.640000   \n",
              "\n",
              "       Max. Voltage Dischar. (V)  Min. Voltage Charg. (V)  Time at 4.15V (s)  \\\n",
              "0                          3.670                    3.211           5460.001   \n",
              "1                          4.246                    3.220           5508.992   \n",
              "2                          4.249                    3.224           5508.993   \n",
              "3                          4.250                    3.225           5502.016   \n",
              "4                          4.290                    3.398           5480.992   \n",
              "...                          ...                      ...                ...   \n",
              "15059                      3.773                    3.742            922.775   \n",
              "15060                      3.773                    3.744            915.512   \n",
              "15061                      3.773                    3.742            915.513   \n",
              "15062                      3.763                    3.839            539.375   \n",
              "15063                      4.206                    3.305          49680.004   \n",
              "\n",
              "       Time constant current (s)  Charging time (s)   RUL  \n",
              "0                        6755.01           10777.82  1112  \n",
              "1                        6762.02           10500.35  1111  \n",
              "2                        6762.02           10420.38  1110  \n",
              "3                        6762.02           10322.81  1109  \n",
              "4                       53213.54           56699.65  1107  \n",
              "...                          ...                ...   ...  \n",
              "15059                    1412.38            6678.88     4  \n",
              "15060                    1412.31            6670.38     3  \n",
              "15061                    1412.31            6637.12     2  \n",
              "15062                    1148.00            7660.62     1  \n",
              "15063                  599830.14          599830.14     0  \n",
              "\n",
              "[15064 rows x 9 columns]>"
            ]
          },
          "execution_count": 20,
          "metadata": {},
          "output_type": "execute_result"
        }
      ],
      "source": [
        "data.info"
      ]
    },
    {
      "cell_type": "code",
      "execution_count": 21,
      "metadata": {
        "colab": {
          "base_uri": "https://localhost:8080/"
        },
        "id": "2y9FxQpIReVW",
        "outputId": "9079a8af-63c3-48ef-d018-ec8ae2394e6b"
      },
      "outputs": [
        {
          "data": {
            "text/plain": [
              "<bound method NDFrame.head of        Cycle_Index  Discharge Time (s)  Decrement 3.6-3.4V (s)  \\\n",
              "0              1.0             2595.30             1151.488500   \n",
              "1              2.0             7408.64             1172.512500   \n",
              "2              3.0             7393.76             1112.992000   \n",
              "3              4.0             7385.50             1080.320667   \n",
              "4              6.0            65022.75            29813.487000   \n",
              "...            ...                 ...                     ...   \n",
              "15059       1108.0              770.44              179.523810   \n",
              "15060       1109.0              771.12              179.523810   \n",
              "15061       1110.0              769.12              179.357143   \n",
              "15062       1111.0              773.88              162.374667   \n",
              "15063       1112.0           677537.27           142740.640000   \n",
              "\n",
              "       Max. Voltage Dischar. (V)  Min. Voltage Charg. (V)  Time at 4.15V (s)  \\\n",
              "0                          3.670                    3.211           5460.001   \n",
              "1                          4.246                    3.220           5508.992   \n",
              "2                          4.249                    3.224           5508.993   \n",
              "3                          4.250                    3.225           5502.016   \n",
              "4                          4.290                    3.398           5480.992   \n",
              "...                          ...                      ...                ...   \n",
              "15059                      3.773                    3.742            922.775   \n",
              "15060                      3.773                    3.744            915.512   \n",
              "15061                      3.773                    3.742            915.513   \n",
              "15062                      3.763                    3.839            539.375   \n",
              "15063                      4.206                    3.305          49680.004   \n",
              "\n",
              "       Time constant current (s)  Charging time (s)   RUL  \n",
              "0                        6755.01           10777.82  1112  \n",
              "1                        6762.02           10500.35  1111  \n",
              "2                        6762.02           10420.38  1110  \n",
              "3                        6762.02           10322.81  1109  \n",
              "4                       53213.54           56699.65  1107  \n",
              "...                          ...                ...   ...  \n",
              "15059                    1412.38            6678.88     4  \n",
              "15060                    1412.31            6670.38     3  \n",
              "15061                    1412.31            6637.12     2  \n",
              "15062                    1148.00            7660.62     1  \n",
              "15063                  599830.14          599830.14     0  \n",
              "\n",
              "[15064 rows x 9 columns]>"
            ]
          },
          "execution_count": 21,
          "metadata": {},
          "output_type": "execute_result"
        }
      ],
      "source": [
        "data.head"
      ]
    },
    {
      "cell_type": "code",
      "execution_count": 22,
      "metadata": {
        "colab": {
          "base_uri": "https://localhost:8080/"
        },
        "id": "LBfb4J88tg_p",
        "outputId": "3ce2a8c2-14cf-4d15-f039-db1b2b52d030"
      },
      "outputs": [
        {
          "data": {
            "text/plain": [
              "Index(['Cycle_Index', 'Discharge Time (s)', 'Decrement 3.6-3.4V (s)',\n",
              "       'Max. Voltage Dischar. (V)', 'Min. Voltage Charg. (V)',\n",
              "       'Time at 4.15V (s)', 'Time constant current (s)', 'Charging time (s)',\n",
              "       'RUL'],\n",
              "      dtype='object')"
            ]
          },
          "execution_count": 22,
          "metadata": {},
          "output_type": "execute_result"
        }
      ],
      "source": [
        "data.columns"
      ]
    },
    {
      "cell_type": "markdown",
      "metadata": {
        "id": "ykuC0qs_-G8H"
      },
      "source": [
        " **linear regression**"
      ]
    },
    {
      "cell_type": "code",
      "execution_count": 23,
      "metadata": {
        "colab": {
          "base_uri": "https://localhost:8080/"
        },
        "id": "CHyfiULmCOsv",
        "outputId": "0d051680-6a4f-4efa-d8bd-9c174a25b956"
      },
      "outputs": [
        {
          "name": "stdout",
          "output_type": "stream",
          "text": [
            "MSE: 23008.09384261115\n",
            "R squared: 78.33%\n"
          ]
        }
      ],
      "source": [
        "features = data.drop(\"Cycle_Index\", axis=1).drop(\"RUL\", axis=1)\n",
        "target = data[\"RUL\"]\n",
        "\n",
        "# Split the data into training and testing sets\n",
        "x_train, x_test, y_train, y_test = train_test_split(features, target, test_size=0.35, random_state=40)\n",
        "\n",
        "# Create and fit the linear regression model\n",
        "model = LinearRegression()\n",
        "model.fit(x_train, y_train)\n",
        "\n",
        "# Make predictions on the testing set\n",
        "predictions = model.predict(x_test)\n",
        "\n",
        "# Evaluate model performance\n",
        "print(\"MSE:\", mean_squared_error(y_test, predictions))\n",
        "print(f\"R squared: {r2_score(y_test, predictions) * 100:.2f}%\")"
      ]
    },
    {
      "cell_type": "code",
      "execution_count": 24,
      "metadata": {
        "colab": {
          "base_uri": "https://localhost:8080/",
          "height": 573
        },
        "id": "CJdgwDEl0M5D",
        "outputId": "51b08b29-6df2-471d-bedc-e1157e6294fb"
      },
      "outputs": [
        {
          "data": {
            "image/png": "[encoded data removed]",
            "text/plain": [
              "<Figure size 640x480 with 1 Axes>"
            ]
          },
          "metadata": {},
          "output_type": "display_data"
        }
      ],
      "source": [
        "# Visualize predictions vs actual values\n",
        "plt.plot(y_test, y_test, color='blue')\n",
        "plt.scatter(y_test, predictions, s=3, color='red')\n",
        "plt.title(\"Visualize predictions vs actual values\")\n",
        "plt.xlabel(\"True Values\")\n",
        "plt.ylabel(\"Predictions\")\n",
        "# plt.legend()\n",
        "plt.show()\n"
      ]
    },
    {
      "cell_type": "markdown",
      "metadata": {},
      "source": [
        "Polynomial Features:\n",
        "Allowing the model to capture non-linear relationships by adding polynomial features."
      ]
    },
    {
      "cell_type": "code",
      "execution_count": 30,
      "metadata": {},
      "outputs": [
        {
          "name": "stdout",
          "output_type": "stream",
          "text": [
            "MSE (Polynomial): 4979.103987474649\n",
            "R squared (Polynomial): 95.31%\n"
          ]
        }
      ],
      "source": [
        "from sklearn.preprocessing import PolynomialFeatures\n",
        "\n",
        "poly = PolynomialFeatures(degree=2)\n",
        "x_train_poly = poly.fit_transform(x_train)\n",
        "x_test_poly = poly.transform(x_test)\n",
        "\n",
        "model.fit(x_train_poly, y_train)\n",
        "predictions_poly = model.predict(x_test_poly)\n",
        "\n",
        "print(\"MSE (Polynomial):\", mean_squared_error(y_test, predictions_poly))\n",
        "print(f\"R squared (Polynomial): {r2_score(y_test, predictions_poly) * 100:.2f}%\")\n"
      ]
    },
    {
      "cell_type": "code",
      "execution_count": 27,
      "metadata": {},
      "outputs": [
        {
          "data": {
            "image/png": "[encoded data removed]",
            "text/plain": [
              "<Figure size 640x480 with 1 Axes>"
            ]
          },
          "metadata": {},
          "output_type": "display_data"
        }
      ],
      "source": [
        "plt.plot(y_test, y_test, color='blue')\n",
        "plt.scatter(y_test, predictions_poly, s=3, color='red')\n",
        "plt.title(\"Visualize predictions vs actual values\")\n",
        "plt.xlabel(\"True Values\")\n",
        "plt.ylabel(\"Predictions\")\n",
        "# plt.legend()\n",
        "plt.show()\n"
      ]
    },
    {
      "cell_type": "markdown",
      "metadata": {},
      "source": [
        "Feature Selection:\n",
        "Identify and keep only the most relevant features. You can use techniques like recursive feature elimination (RFE) or feature importance from tree-based models."
      ]
    },
    {
      "cell_type": "code",
      "execution_count": 31,
      "metadata": {},
      "outputs": [
        {
          "name": "stdout",
          "output_type": "stream",
          "text": [
            "MSE (RFE): 23008.09384261115\n",
            "R squared (RFE): 78.33%\n"
          ]
        }
      ],
      "source": [
        "from sklearn.feature_selection import RFE\n",
        "\n",
        "# Example of using RFE for feature selection\n",
        "rfe = RFE(model, n_features_to_select=10)\n",
        "x_train_rfe = rfe.fit_transform(x_train, y_train)\n",
        "x_test_rfe = rfe.transform(x_test)\n",
        "\n",
        "model.fit(x_train_rfe, y_train)\n",
        "predictions_rfe = model.predict(x_test_rfe)\n",
        "\n",
        "print(\"MSE (RFE):\", mean_squared_error(y_test, predictions_rfe))\n",
        "print(f\"R squared (RFE): {r2_score(y_test, predictions_rfe) * 100:.2f}%\")\n"
      ]
    },
    {
      "cell_type": "markdown",
      "metadata": {},
      "source": [
        "Transform Target Variable:\n",
        "If the relationship between features and the target is not linear, consider transforming the target variable. Common transformations include log transformations."
      ]
    },
    {
      "cell_type": "code",
      "execution_count": 33,
      "metadata": {},
      "outputs": [
        {
          "name": "stdout",
          "output_type": "stream",
          "text": [
            "MSE (Log-transformed): 0.3805597537649656\n",
            "R squared (Log-transformed): 0.614962681021193\n"
          ]
        }
      ],
      "source": [
        "y_train_log = np.log1p(y_train)\n",
        "y_test_log = np.log1p(y_test)\n",
        "\n",
        "model.fit(x_train, y_train_log)\n",
        "predictions_log = model.predict(x_test)\n",
        "\n",
        "print(\"MSE (Log-transformed):\", mean_squared_error(y_test_log, predictions_log))\n",
        "print(\"R squared (Log-transformed):\", r2_score(y_test_log, predictions_log))\n",
        "\n"
      ]
    }
  ],
  "metadata": {
    "colab": {
      "provenance": []
    },
    "kernelspec": {
      "display_name": "Python 3",
      "name": "python3"
    },
    "language_info": {
      "codemirror_mode": {
        "name": "ipython",
        "version": 3
      },
      "file_extension": ".py",
      "mimetype": "text/x-python",
      "name": "python",
      "nbconvert_exporter": "python",
      "pygments_lexer": "ipython3",
      "version": "3.11.4"
    }
  },
  "nbformat": 4,
  "nbformat_minor": 0
}
