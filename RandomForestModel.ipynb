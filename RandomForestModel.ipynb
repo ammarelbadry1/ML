{
 "cells": [
  {
   "cell_type": "code",
   "execution_count": 18,
   "metadata": {},
   "outputs": [],
   "source": [
    "import pandas as pd\n",
    "import numpy as np\n",
    "import matplotlib.pyplot as plt\n",
    "from sklearn.model_selection import train_test_split\n",
    "from sklearn.ensemble import RandomForestRegressor\n",
    "from sklearn.metrics import r2_score"
   ]
  },
  {
   "cell_type": "markdown",
   "metadata": {},
   "source": [
    "Reading the dataset:"
   ]
  },
  {
   "cell_type": "code",
   "execution_count": 19,
   "metadata": {},
   "outputs": [
    {
     "data": {
      "text/html": [
       "<div>\n",
       "<style scoped>\n",
       "    .dataframe tbody tr th:only-of-type {\n",
       "        vertical-align: middle;\n",
       "    }\n",
       "\n",
       "    .dataframe tbody tr th {\n",
       "        vertical-align: top;\n",
       "    }\n",
       "\n",
       "    .dataframe thead th {\n",
       "        text-align: right;\n",
       "    }\n",
       "</style>\n",
       "<table border=\"1\" class=\"dataframe\">\n",
       "  <thead>\n",
       "    <tr style=\"text-align: right;\">\n",
       "      <th></th>\n",
       "      <th>Cycle_Index</th>\n",
       "      <th>Discharge Time (s)</th>\n",
       "      <th>Decrement 3.6-3.4V (s)</th>\n",
       "      <th>Max. Voltage Dischar. (V)</th>\n",
       "      <th>Min. Voltage Charg. (V)</th>\n",
       "      <th>Time at 4.15V (s)</th>\n",
       "      <th>Time constant current (s)</th>\n",
       "      <th>Charging time (s)</th>\n",
       "      <th>RUL</th>\n",
       "    </tr>\n",
       "  </thead>\n",
       "  <tbody>\n",
       "    <tr>\n",
       "      <th>0</th>\n",
       "      <td>1.0</td>\n",
       "      <td>2595.30</td>\n",
       "      <td>1151.488500</td>\n",
       "      <td>3.670</td>\n",
       "      <td>3.211</td>\n",
       "      <td>5460.001</td>\n",
       "      <td>6755.01</td>\n",
       "      <td>10777.82</td>\n",
       "      <td>1112</td>\n",
       "    </tr>\n",
       "    <tr>\n",
       "      <th>1</th>\n",
       "      <td>2.0</td>\n",
       "      <td>7408.64</td>\n",
       "      <td>1172.512500</td>\n",
       "      <td>4.246</td>\n",
       "      <td>3.220</td>\n",
       "      <td>5508.992</td>\n",
       "      <td>6762.02</td>\n",
       "      <td>10500.35</td>\n",
       "      <td>1111</td>\n",
       "    </tr>\n",
       "    <tr>\n",
       "      <th>2</th>\n",
       "      <td>3.0</td>\n",
       "      <td>7393.76</td>\n",
       "      <td>1112.992000</td>\n",
       "      <td>4.249</td>\n",
       "      <td>3.224</td>\n",
       "      <td>5508.993</td>\n",
       "      <td>6762.02</td>\n",
       "      <td>10420.38</td>\n",
       "      <td>1110</td>\n",
       "    </tr>\n",
       "    <tr>\n",
       "      <th>3</th>\n",
       "      <td>4.0</td>\n",
       "      <td>7385.50</td>\n",
       "      <td>1080.320667</td>\n",
       "      <td>4.250</td>\n",
       "      <td>3.225</td>\n",
       "      <td>5502.016</td>\n",
       "      <td>6762.02</td>\n",
       "      <td>10322.81</td>\n",
       "      <td>1109</td>\n",
       "    </tr>\n",
       "    <tr>\n",
       "      <th>4</th>\n",
       "      <td>6.0</td>\n",
       "      <td>65022.75</td>\n",
       "      <td>29813.487000</td>\n",
       "      <td>4.290</td>\n",
       "      <td>3.398</td>\n",
       "      <td>5480.992</td>\n",
       "      <td>53213.54</td>\n",
       "      <td>56699.65</td>\n",
       "      <td>1107</td>\n",
       "    </tr>\n",
       "    <tr>\n",
       "      <th>...</th>\n",
       "      <td>...</td>\n",
       "      <td>...</td>\n",
       "      <td>...</td>\n",
       "      <td>...</td>\n",
       "      <td>...</td>\n",
       "      <td>...</td>\n",
       "      <td>...</td>\n",
       "      <td>...</td>\n",
       "      <td>...</td>\n",
       "    </tr>\n",
       "    <tr>\n",
       "      <th>15059</th>\n",
       "      <td>1108.0</td>\n",
       "      <td>770.44</td>\n",
       "      <td>179.523810</td>\n",
       "      <td>3.773</td>\n",
       "      <td>3.742</td>\n",
       "      <td>922.775</td>\n",
       "      <td>1412.38</td>\n",
       "      <td>6678.88</td>\n",
       "      <td>4</td>\n",
       "    </tr>\n",
       "    <tr>\n",
       "      <th>15060</th>\n",
       "      <td>1109.0</td>\n",
       "      <td>771.12</td>\n",
       "      <td>179.523810</td>\n",
       "      <td>3.773</td>\n",
       "      <td>3.744</td>\n",
       "      <td>915.512</td>\n",
       "      <td>1412.31</td>\n",
       "      <td>6670.38</td>\n",
       "      <td>3</td>\n",
       "    </tr>\n",
       "    <tr>\n",
       "      <th>15061</th>\n",
       "      <td>1110.0</td>\n",
       "      <td>769.12</td>\n",
       "      <td>179.357143</td>\n",
       "      <td>3.773</td>\n",
       "      <td>3.742</td>\n",
       "      <td>915.513</td>\n",
       "      <td>1412.31</td>\n",
       "      <td>6637.12</td>\n",
       "      <td>2</td>\n",
       "    </tr>\n",
       "    <tr>\n",
       "      <th>15062</th>\n",
       "      <td>1111.0</td>\n",
       "      <td>773.88</td>\n",
       "      <td>162.374667</td>\n",
       "      <td>3.763</td>\n",
       "      <td>3.839</td>\n",
       "      <td>539.375</td>\n",
       "      <td>1148.00</td>\n",
       "      <td>7660.62</td>\n",
       "      <td>1</td>\n",
       "    </tr>\n",
       "    <tr>\n",
       "      <th>15063</th>\n",
       "      <td>1112.0</td>\n",
       "      <td>677537.27</td>\n",
       "      <td>142740.640000</td>\n",
       "      <td>4.206</td>\n",
       "      <td>3.305</td>\n",
       "      <td>49680.004</td>\n",
       "      <td>599830.14</td>\n",
       "      <td>599830.14</td>\n",
       "      <td>0</td>\n",
       "    </tr>\n",
       "  </tbody>\n",
       "</table>\n",
       "<p>15064 rows × 9 columns</p>\n",
       "</div>"
      ],
      "text/plain": [
       "       Cycle_Index  Discharge Time (s)  Decrement 3.6-3.4V (s)  \\\n",
       "0              1.0             2595.30             1151.488500   \n",
       "1              2.0             7408.64             1172.512500   \n",
       "2              3.0             7393.76             1112.992000   \n",
       "3              4.0             7385.50             1080.320667   \n",
       "4              6.0            65022.75            29813.487000   \n",
       "...            ...                 ...                     ...   \n",
       "15059       1108.0              770.44              179.523810   \n",
       "15060       1109.0              771.12              179.523810   \n",
       "15061       1110.0              769.12              179.357143   \n",
       "15062       1111.0              773.88              162.374667   \n",
       "15063       1112.0           677537.27           142740.640000   \n",
       "\n",
       "       Max. Voltage Dischar. (V)  Min. Voltage Charg. (V)  Time at 4.15V (s)  \\\n",
       "0                          3.670                    3.211           5460.001   \n",
       "1                          4.246                    3.220           5508.992   \n",
       "2                          4.249                    3.224           5508.993   \n",
       "3                          4.250                    3.225           5502.016   \n",
       "4                          4.290                    3.398           5480.992   \n",
       "...                          ...                      ...                ...   \n",
       "15059                      3.773                    3.742            922.775   \n",
       "15060                      3.773                    3.744            915.512   \n",
       "15061                      3.773                    3.742            915.513   \n",
       "15062                      3.763                    3.839            539.375   \n",
       "15063                      4.206                    3.305          49680.004   \n",
       "\n",
       "       Time constant current (s)  Charging time (s)   RUL  \n",
       "0                        6755.01           10777.82  1112  \n",
       "1                        6762.02           10500.35  1111  \n",
       "2                        6762.02           10420.38  1110  \n",
       "3                        6762.02           10322.81  1109  \n",
       "4                       53213.54           56699.65  1107  \n",
       "...                          ...                ...   ...  \n",
       "15059                    1412.38            6678.88     4  \n",
       "15060                    1412.31            6670.38     3  \n",
       "15061                    1412.31            6637.12     2  \n",
       "15062                    1148.00            7660.62     1  \n",
       "15063                  599830.14          599830.14     0  \n",
       "\n",
       "[15064 rows x 9 columns]"
      ]
     },
     "execution_count": 19,
     "metadata": {},
     "output_type": "execute_result"
    }
   ],
   "source": [
    "# Reading the dataset\n",
    "df = pd.read_csv('Battery_RUL.csv')\n",
    "df"
   ]
  },
  {
   "cell_type": "markdown",
   "metadata": {},
   "source": [
    "Random Forest Regression:"
   ]
  },
  {
   "cell_type": "code",
   "execution_count": 20,
   "metadata": {},
   "outputs": [
    {
     "name": "stdout",
     "output_type": "stream",
     "text": [
      "Model Evaluation:\n",
      "Out-of-Bag Score: 0.9937461407199557\n",
      "R2 Score: 0.994413468761829\n",
      "\n"
     ]
    }
   ],
   "source": [
    "#  Preprocessing\n",
    "X = df.drop(\"RUL\", axis=1).drop(\"Cycle_Index\", axis=1)\n",
    "y = df[\"RUL\"]\n",
    "\n",
    "## Split the data\n",
    "X_train, X_test, y_train, y_test = train_test_split(X, y, test_size=0.3)\n",
    "\n",
    "# Train the model\n",
    "model = RandomForestRegressor(n_estimators=20, oob_score=True)\n",
    "model.fit(X_train, y_train)\n",
    "# Make predictions\n",
    "predictions = model.predict(X_test)\n",
    "\n",
    "\n",
    "# Evaluate the model\n",
    "oob_score = model.oob_score_\n",
    "r2 = r2_score(y_test, predictions)\n",
    "\n",
    "print('Model Evaluation:')\n",
    "print(f'Out-of-Bag Score: {oob_score}')\n",
    "print(f'R2 Score: {r2 * 100:.2f}%')\n",
    "print()\n"
   ]
  },
  {
   "cell_type": "code",
   "execution_count": 21,
   "metadata": {},
   "outputs": [
    {
     "name": "stdout",
     "output_type": "stream",
     "text": [
      "Feature Ranking:\n",
      "1. feature 0 (0.885583)\n",
      "2. feature 1 (0.059077)\n",
      "3. feature 4 (0.017052)\n",
      "4. feature 2 (0.014796)\n",
      "5. feature 5 (0.012096)\n",
      "6. feature 3 (0.005830)\n",
      "7. feature 6 (0.005567)\n"
     ]
    }
   ],
   "source": [
    "importances = model.feature_importances_\n",
    "indices = np.argsort(importances)[::-1]\n",
    "\n",
    "print(\"Feature Ranking:\")\n",
    "for feature in range(X.shape[1]):\n",
    "    print(\"%d. feature %d (%f)\" % (feature + 1, indices[feature], importances[indices[feature]]))\n"
   ]
  },
  {
   "cell_type": "markdown",
   "metadata": {},
   "source": [
    "Visualizing Predictions VS Actual Values:"
   ]
  },
  {
   "cell_type": "code",
   "execution_count": 22,
   "metadata": {},
   "outputs": [
    {
     "data": {
      "image/png": "[encoded data removed]",
      "text/plain": [
       "<Figure size 640x480 with 1 Axes>"
      ]
     },
     "metadata": {},
     "output_type": "display_data"
    }
   ],
   "source": [
    "plt.plot(y_test, y_test, color='blue')\n",
    "plt.scatter(y_test, predictions, s=3, color='red')\n",
    "plt.title(\"Visualizing Predictions VS Actual Values\")\n",
    "plt.xlabel('True Values')\n",
    "plt.ylabel('Predictions')\n",
    "plt.show()"
   ]
  },
  {
   "cell_type": "markdown",
   "metadata": {},
   "source": [
    "Visualizing Error Distribution:"
   ]
  },
  {
   "cell_type": "code",
   "execution_count": 23,
   "metadata": {},
   "outputs": [
    {
     "data": {
      "image/png": "[encoded data removed]",
      "text/plain": [
       "<Figure size 640x480 with 1 Axes>"
      ]
     },
     "metadata": {},
     "output_type": "display_data"
    }
   ],
   "source": [
    "errors = y_test - predictions\n",
    "plt.hist(errors, bins=100)\n",
    "plt.title(\"Visualizing Error Distribution\")\n",
    "plt.xlabel('Error')\n",
    "plt.ylabel('Count')\n",
    "plt.show()\n"
   ]
  }
 ],
 "metadata": {
  "kernelspec": {
   "display_name": "Python 3",
   "language": "python",
   "name": "python3"
  },
  "language_info": {
   "codemirror_mode": {
    "name": "ipython",
    "version": 3
   },
   "file_extension": ".py",
   "mimetype": "text/x-python",
   "name": "python",
   "nbconvert_exporter": "python",
   "pygments_lexer": "ipython3",
   "version": "3.11.4"
  }
 },
 "nbformat": 4,
 "nbformat_minor": 2
}
